{
  "nbformat": 4,
  "nbformat_minor": 0,
  "metadata": {
    "colab": {
      "provenance": []
    },
    "kernelspec": {
      "name": "python3",
      "display_name": "Python 3"
    },
    "language_info": {
      "name": "python"
    }
  },
  "cells": [
    {
      "cell_type": "markdown",
      "source": [
        "**General Approach**"
      ],
      "metadata": {
        "id": "bv7_Mh1qQvek"
      }
    },
    {
      "cell_type": "code",
      "execution_count": 2,
      "metadata": {
        "colab": {
          "base_uri": "https://localhost:8080/"
        },
        "id": "xzmohIBsQqQF",
        "outputId": "2cb1bf2e-b09e-4611-bfb8-5787935a5ab1"
      },
      "outputs": [
        {
          "output_type": "stream",
          "name": "stdout",
          "text": [
            "[1, 3, 5, 7, 9, 11, 13, 15, 17, 19]\n"
          ]
        }
      ],
      "source": [
        "list1 = [1,2,3,4,5,6,7,8,9,10,11,12,13,14,15,16,17,18,19,20]\n",
        "oddList = []\n",
        "\n",
        "for i in list1:\n",
        "  if i % 2 != 0:\n",
        "    oddList.append(i)\n",
        "\n",
        "print(oddList)"
      ]
    }
  ]
}